{
 "cells": [
  {
   "cell_type": "code",
   "execution_count": 1,
   "metadata": {},
   "outputs": [],
   "source": [
    "from qite import QITE\n",
    "from args import demo_args\n",
    "from helper import state_to_ind, sigma_id, sigma_sx, sigma_sy, sigma_sz\n",
    "import numpy as np\n",
    "import pandas as pd\n",
    "import matplotlib.pyplot as plt"
   ]
  },
  {
   "cell_type": "code",
   "execution_count": 4,
   "metadata": {},
   "outputs": [
    {
     "data": {
      "text/plain": [
       "{'03': 0.2, '13': 0.25}"
      ]
     },
     "execution_count": 4,
     "metadata": {},
     "output_type": "execute_result"
    }
   ],
   "source": [
    "hamiltonian = 0.2 * np.kron(sigma_id, sigma_sz) + 0.25 * np.kron(sigma_sx, sigma_sz)\n",
    "demo_args.num_qubits = 2\n",
    "demo_args.db = 0.05\n",
    "demo_args.num_steps = 10\n",
    "demo_args.shots = 8192\n",
    "demo_args.delta = 0.1\n",
    "qite = QITE(demo_args, hamiltonian)\n",
    "qite.decompose_hamiltonian()"
   ]
  },
  {
   "cell_type": "code",
   "execution_count": 3,
   "metadata": {},
   "outputs": [
    {
     "data": {
      "text/plain": [
       "(-0.44999999999999996+0j)"
      ]
     },
     "execution_count": 3,
     "metadata": {},
     "output_type": "execute_result"
    }
   ],
   "source": [
    "np.linalg.eig(hamiltonian)[0].min()"
   ]
  },
  {
   "cell_type": "code",
   "execution_count": 9,
   "metadata": {},
   "outputs": [
    {
     "data": {
      "text/plain": [
       "[-6.791632812671692e-18,\n",
       " 0.0017990714021585295,\n",
       " -0.0001421590997055844,\n",
       " 3.7574069467232256e-05,\n",
       " -2.2205183617510108e-05,\n",
       " 0.0016320536386812913,\n",
       " 0.001633681704335953,\n",
       " -1.2603850255143989e-17,\n",
       " -0.012244870216690205,\n",
       " -0.0014078546979563904,\n",
       " 0.0015836713652058723,\n",
       " -0.01215032397947112,\n",
       " -0.0019418582056421373,\n",
       " -0.001664583934517578,\n",
       " 0.00012587602337481497,\n",
       " 0.0019391371436754104]"
      ]
     },
     "execution_count": 9,
     "metadata": {},
     "output_type": "execute_result"
    }
   ],
   "source": [
    "x = qite.alist[3]\n",
    "x"
   ]
  },
  {
   "cell_type": "code",
   "execution_count": 16,
   "metadata": {},
   "outputs": [
    {
     "data": {
      "text/plain": [
       "array([[-6.79163281e-18, -6.79163281e-18],\n",
       "       [ 1.79907140e-03,  0.00000000e+00],\n",
       "       [-1.42159100e-04, -0.00000000e+00],\n",
       "       [ 3.75740695e-05,  0.00000000e+00],\n",
       "       [-0.00000000e+00, -2.22051836e-05],\n",
       "       [ 0.00000000e+00,  0.00000000e+00],\n",
       "       [ 0.00000000e+00,  0.00000000e+00],\n",
       "       [-0.00000000e+00, -0.00000000e+00],\n",
       "       [-0.00000000e+00, -1.22448702e-02],\n",
       "       [-0.00000000e+00, -0.00000000e+00],\n",
       "       [ 0.00000000e+00,  0.00000000e+00],\n",
       "       [-0.00000000e+00, -0.00000000e+00],\n",
       "       [-0.00000000e+00, -1.94185821e-03],\n",
       "       [-0.00000000e+00, -0.00000000e+00],\n",
       "       [ 0.00000000e+00,  0.00000000e+00],\n",
       "       [ 0.00000000e+00,  0.00000000e+00]])"
      ]
     },
     "execution_count": 16,
     "metadata": {},
     "output_type": "execute_result"
    }
   ],
   "source": [
    "(qite.sigma_states == 0) * np.expand_dims(x, 1)"
   ]
  },
  {
   "cell_type": "code",
   "execution_count": 5,
   "metadata": {},
   "outputs": [
    {
     "name": "stderr",
     "output_type": "stream",
     "text": [
      "100%|██████████| 10/10 [00:09<00:00,  1.04it/s]\n"
     ]
    }
   ],
   "source": [
    "ground_energy, ground_state = qite.run()"
   ]
  },
  {
   "cell_type": "code",
   "execution_count": 6,
   "metadata": {},
   "outputs": [
    {
     "name": "stderr",
     "output_type": "stream",
     "text": [
      "/Library/Frameworks/Python.framework/Versions/3.10/lib/python3.10/site-packages/matplotlib/cbook/__init__.py:1298: ComplexWarning: Casting complex values to real discards the imaginary part\n",
      "  return np.asarray(x, float)\n"
     ]
    },
    {
     "data": {
      "text/plain": [
       "[<matplotlib.lines.Line2D at 0x145d3a2c0>]"
      ]
     },
     "execution_count": 6,
     "metadata": {},
     "output_type": "execute_result"
    },
    {
     "data": {
      "image/png": "[encoded data removed]",
      "text/plain": [
       "<Figure size 432x288 with 1 Axes>"
      ]
     },
     "metadata": {
      "needs_background": "light"
     },
     "output_type": "display_data"
    }
   ],
   "source": [
    "plt.plot(np.arange(demo_args.num_steps+1) * demo_args.db, ground_energy)"
   ]
  },
  {
   "cell_type": "code",
   "execution_count": 13,
   "metadata": {},
   "outputs": [
    {
     "name": "stderr",
     "output_type": "stream",
     "text": [
      "/var/folders/gq/3xlhh9496_j9xpjb7tkbqh280000gn/T/ipykernel_60558/1294317361.py:1: RuntimeWarning: divide by zero encountered in true_divide\n",
      "  np.absolute(np.array(qite.alist) / np.array(alist)).mean(axis=1)\n"
     ]
    },
    {
     "data": {
      "text/plain": [
       "array([ 5.41898317,  1.04673734,  2.64243916,  0.50691186,  3.61719623,\n",
       "        4.40915073,  1.38199714,  2.06303717,  8.5238968 ,         inf,\n",
       "        4.31988157,  0.86909994,  2.13206307,  0.74682228,  8.05054635,\n",
       "        0.74158299,  0.92286285,  0.90621253,  2.26989881,  1.30044146,\n",
       "        1.43910461,  9.52691379,  6.22031952, 15.68927249, 24.32455509,\n",
       "        1.54739883,  1.04712723,  1.07455744,  1.0415588 ,  1.42492269,\n",
       "        2.77162195,  1.87723141,  3.35933857,  0.28549594,         inf,\n",
       "        0.60181021,  2.02000755,  0.49033806,  0.81233043,  3.08184237,\n",
       "               inf,  0.58393858,  0.77658352,         inf,  2.93227414,\n",
       "       17.59262151,         inf,  4.80611855, 43.60790393,  5.63997105])"
      ]
     },
     "execution_count": 13,
     "metadata": {},
     "output_type": "execute_result"
    }
   ],
   "source": [
    "np.absolute(np.array(qite.alist) / np.array(alist)).mean(axis=1)"
   ]
  },
  {
   "cell_type": "code",
   "execution_count": 9,
   "metadata": {},
   "outputs": [
    {
     "data": {
      "image/png": "[encoded data removed]",
      "text/plain": [
       "<Figure size 116.552x204.68 with 1 Axes>"
      ]
     },
     "execution_count": 9,
     "metadata": {},
     "output_type": "execute_result"
    }
   ],
   "source": [
    "qc = qite.propagate()\n",
    "qc.draw(output='mpl')"
   ]
  },
  {
   "cell_type": "code",
   "execution_count": 10,
   "metadata": {},
   "outputs": [
    {
     "data": {
      "text/plain": [
       "[(0, 0),\n",
       " (0, 1),\n",
       " (0, 3),\n",
       " (1, 0),\n",
       " (1, 1),\n",
       " (1, 3),\n",
       " (2, 2),\n",
       " (3, 0),\n",
       " (3, 1),\n",
       " (3, 3)]"
      ]
     },
     "execution_count": 10,
     "metadata": {},
     "output_type": "execute_result"
    }
   ],
   "source": [
    "qite.sigma_states"
   ]
  },
  {
   "cell_type": "code",
   "execution_count": null,
   "metadata": {},
   "outputs": [],
   "source": []
  }
 ],
 "metadata": {
  "kernelspec": {
   "display_name": "Python 3.10.1 64-bit",
   "language": "python",
   "name": "python3"
  },
  "language_info": {
   "codemirror_mode": {
    "name": "ipython",
    "version": 3
   },
   "file_extension": ".py",
   "mimetype": "text/x-python",
   "name": "python",
   "nbconvert_exporter": "python",
   "pygments_lexer": "ipython3",
   "version": "3.10.1"
  },
  "orig_nbformat": 4,
  "vscode": {
   "interpreter": {
    "hash": "98590ff4fe04c8543246b2a01debd3de3c5ca9b666f43f1fa87d5110c692004c"
   }
  }
 },
 "nbformat": 4,
 "nbformat_minor": 2
}
