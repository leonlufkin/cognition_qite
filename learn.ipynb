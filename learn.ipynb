{
 "cells": [
  {
   "cell_type": "code",
   "execution_count": 211,
   "metadata": {},
   "outputs": [],
   "source": [
    "import numpy as np\n",
    "from qiskit import QuantumCircuit, transpile, BasicAer\n",
    "from qiskit.providers.aer import QasmSimulator\n",
    "from helper import sigma_id, sigma_sx, sigma_sy, sigma_sz"
   ]
  },
  {
   "cell_type": "code",
   "execution_count": 272,
   "metadata": {},
   "outputs": [],
   "source": [
    "simulator = QasmSimulator()\n",
    "backend = BasicAer.get_backend('qasm_simulator') # unitary_simulator"
   ]
  },
  {
   "cell_type": "markdown",
   "metadata": {},
   "source": [
    "#### Simple Matrix"
   ]
  },
  {
   "cell_type": "code",
   "execution_count": 279,
   "metadata": {},
   "outputs": [
    {
     "name": "stdout",
     "output_type": "stream",
     "text": [
      "[[-0.54735767-0.83689879j  0.        +0.j        ]\n",
      " [ 0.        +0.j         -0.54735767+0.83689879j]]\n"
     ]
    },
    {
     "data": {
      "text/plain": [
       "(-0.547357665480271-0.8368987907984978j)"
      ]
     },
     "execution_count": 279,
     "metadata": {},
     "output_type": "execute_result"
    }
   ],
   "source": [
    "from scipy.linalg import expm\n",
    "coef = 4.3\n",
    "hamiltonian = coef * sigma_sz # (coef * sigma_sx) + (coef * sigma_sz)\n",
    "state = np.array([1, 0]) # |0> or |1>\n",
    "operator = expm(-0.5j * hamiltonian)\n",
    "print(operator)\n",
    "energy = state.T @ operator @ state\n",
    "# energy.real ** 2 + energy.imag ** 2\n",
    "energy"
   ]
  },
  {
   "cell_type": "code",
   "execution_count": 281,
   "metadata": {},
   "outputs": [
    {
     "data": {
      "text/plain": [
       "-0.400390625"
      ]
     },
     "execution_count": 281,
     "metadata": {},
     "output_type": "execute_result"
    }
   ],
   "source": [
    "qc = QuantumCircuit(1,1)\n",
    "shots = 2**17\n",
    "# qc.x(0)\n",
    "qc.rx(coef/2, 0)\n",
    "# qc.rx(coef/2, 0)\n",
    "# qc.ry(coef/2, 0)\n",
    "qc.rz(coef/2, 0)\n",
    "qc.rx(coef/2, 0)\n",
    "\n",
    "# qc.rx(coef/4, 0)\n",
    "# qc.rx(coef/4, 0)\n",
    "\n",
    "# qc.u3(coef/2, coef/2, 0, 0)\n",
    "\n",
    "# qc.h(0) # measure in x-basis\n",
    "# qc.sdg(0) # measure in y-basis\n",
    "\n",
    "# job = backend.run(transpile(qc, backend))\n",
    "# print(job.result().get_unitary(qc, decimals=3))\n",
    "\n",
    "qc.measure([0], [0])\n",
    "result = backend.run(transpile(qc, simulator), shots=shots).result()\n",
    "counts = result.get_counts()\n",
    "for s in ['0', '1']:\n",
    "   if s not in counts.keys():\n",
    "      counts.update({s : 0})\n",
    "expectation = counts['0']/shots - counts['1']/shots\n",
    "expectation"
   ]
  },
  {
   "cell_type": "code",
   "execution_count": 278,
   "metadata": {},
   "outputs": [
    {
     "data": {
      "text/plain": [
       "{'0': 131072, '1': 0}"
      ]
     },
     "execution_count": 278,
     "metadata": {},
     "output_type": "execute_result"
    }
   ],
   "source": [
    "counts"
   ]
  },
  {
   "cell_type": "code",
   "execution_count": 261,
   "metadata": {},
   "outputs": [
    {
     "ename": "QiskitError",
     "evalue": "'Cannot apply instruction with classical bits: measure'",
     "output_type": "error",
     "traceback": [
      "\u001b[0;31m---------------------------------------------------------------------------\u001b[0m",
      "\u001b[0;31mQiskitError\u001b[0m                               Traceback (most recent call last)",
      "\u001b[0;32m/var/folders/gq/3xlhh9496_j9xpjb7tkbqh280000gn/T/ipykernel_45899/2311279060.py\u001b[0m in \u001b[0;36m<module>\u001b[0;34m\u001b[0m\n\u001b[1;32m      1\u001b[0m \u001b[0;32mfrom\u001b[0m \u001b[0mqiskit\u001b[0m\u001b[0;34m.\u001b[0m\u001b[0mquantum_info\u001b[0m \u001b[0;32mimport\u001b[0m \u001b[0mStatevector\u001b[0m\u001b[0;34m\u001b[0m\u001b[0;34m\u001b[0m\u001b[0m\n\u001b[1;32m      2\u001b[0m \u001b[0;32mfrom\u001b[0m \u001b[0mqiskit\u001b[0m\u001b[0;34m.\u001b[0m\u001b[0mvisualization\u001b[0m \u001b[0;32mimport\u001b[0m \u001b[0mplot_state_qsphere\u001b[0m\u001b[0;34m,\u001b[0m \u001b[0mplot_state_city\u001b[0m\u001b[0;34m\u001b[0m\u001b[0;34m\u001b[0m\u001b[0m\n\u001b[0;32m----> 3\u001b[0;31m \u001b[0mstate\u001b[0m \u001b[0;34m=\u001b[0m \u001b[0mStatevector\u001b[0m\u001b[0;34m.\u001b[0m\u001b[0mfrom_instruction\u001b[0m\u001b[0;34m(\u001b[0m\u001b[0mqc\u001b[0m\u001b[0;34m)\u001b[0m\u001b[0;34m\u001b[0m\u001b[0;34m\u001b[0m\u001b[0m\n\u001b[0m\u001b[1;32m      4\u001b[0m \u001b[0mplot_state_city\u001b[0m\u001b[0;34m(\u001b[0m\u001b[0mstate\u001b[0m\u001b[0;34m)\u001b[0m\u001b[0;34m\u001b[0m\u001b[0;34m\u001b[0m\u001b[0m\n",
      "\u001b[0;32m/Library/Frameworks/Python.framework/Versions/3.10/lib/python3.10/site-packages/qiskit/quantum_info/states/statevector.py\u001b[0m in \u001b[0;36mfrom_instruction\u001b[0;34m(cls, instruction)\u001b[0m\n\u001b[1;32m    736\u001b[0m         \u001b[0minit\u001b[0m\u001b[0;34m[\u001b[0m\u001b[0;36m0\u001b[0m\u001b[0;34m]\u001b[0m \u001b[0;34m=\u001b[0m \u001b[0;36m1.0\u001b[0m\u001b[0;34m\u001b[0m\u001b[0;34m\u001b[0m\u001b[0m\n\u001b[1;32m    737\u001b[0m         \u001b[0mvec\u001b[0m \u001b[0;34m=\u001b[0m \u001b[0mStatevector\u001b[0m\u001b[0;34m(\u001b[0m\u001b[0minit\u001b[0m\u001b[0;34m,\u001b[0m \u001b[0mdims\u001b[0m\u001b[0;34m=\u001b[0m\u001b[0minstruction\u001b[0m\u001b[0;34m.\u001b[0m\u001b[0mnum_qubits\u001b[0m \u001b[0;34m*\u001b[0m \u001b[0;34m(\u001b[0m\u001b[0;36m2\u001b[0m\u001b[0;34m,\u001b[0m\u001b[0;34m)\u001b[0m\u001b[0;34m)\u001b[0m\u001b[0;34m\u001b[0m\u001b[0;34m\u001b[0m\u001b[0m\n\u001b[0;32m--> 738\u001b[0;31m         \u001b[0;32mreturn\u001b[0m \u001b[0mStatevector\u001b[0m\u001b[0;34m.\u001b[0m\u001b[0m_evolve_instruction\u001b[0m\u001b[0;34m(\u001b[0m\u001b[0mvec\u001b[0m\u001b[0;34m,\u001b[0m \u001b[0minstruction\u001b[0m\u001b[0;34m)\u001b[0m\u001b[0;34m\u001b[0m\u001b[0;34m\u001b[0m\u001b[0m\n\u001b[0m\u001b[1;32m    739\u001b[0m \u001b[0;34m\u001b[0m\u001b[0m\n\u001b[1;32m    740\u001b[0m     \u001b[0;32mdef\u001b[0m \u001b[0mto_dict\u001b[0m\u001b[0;34m(\u001b[0m\u001b[0mself\u001b[0m\u001b[0;34m,\u001b[0m \u001b[0mdecimals\u001b[0m\u001b[0;34m=\u001b[0m\u001b[0;32mNone\u001b[0m\u001b[0;34m)\u001b[0m\u001b[0;34m:\u001b[0m\u001b[0;34m\u001b[0m\u001b[0;34m\u001b[0m\u001b[0m\n",
      "\u001b[0;32m/Library/Frameworks/Python.framework/Versions/3.10/lib/python3.10/site-packages/qiskit/quantum_info/states/statevector.py\u001b[0m in \u001b[0;36m_evolve_instruction\u001b[0;34m(statevec, obj, qargs)\u001b[0m\n\u001b[1;32m    868\u001b[0m         \u001b[0;32mfor\u001b[0m \u001b[0minstruction\u001b[0m \u001b[0;32min\u001b[0m \u001b[0mobj\u001b[0m\u001b[0;34m.\u001b[0m\u001b[0mdefinition\u001b[0m\u001b[0;34m:\u001b[0m\u001b[0;34m\u001b[0m\u001b[0;34m\u001b[0m\u001b[0m\n\u001b[1;32m    869\u001b[0m             \u001b[0;32mif\u001b[0m \u001b[0minstruction\u001b[0m\u001b[0;34m.\u001b[0m\u001b[0mclbits\u001b[0m\u001b[0;34m:\u001b[0m\u001b[0;34m\u001b[0m\u001b[0;34m\u001b[0m\u001b[0m\n\u001b[0;32m--> 870\u001b[0;31m                 raise QiskitError(\n\u001b[0m\u001b[1;32m    871\u001b[0m                     \u001b[0;34mf\"Cannot apply instruction with classical bits: {instruction.operation.name}\"\u001b[0m\u001b[0;34m\u001b[0m\u001b[0;34m\u001b[0m\u001b[0m\n\u001b[1;32m    872\u001b[0m                 )\n",
      "\u001b[0;31mQiskitError\u001b[0m: 'Cannot apply instruction with classical bits: measure'"
     ]
    }
   ],
   "source": [
    "from qiskit.quantum_info import Statevector\n",
    "from qiskit.visualization import plot_state_qsphere, plot_state_city\n",
    "state = Statevector.from_instruction(qc)\n",
    "plot_state_city(state)"
   ]
  },
  {
   "cell_type": "code",
   "execution_count": 195,
   "metadata": {},
   "outputs": [
    {
     "name": "stdout",
     "output_type": "stream",
     "text": [
      "Statevector([0.94765073-0.31930879j, 0.        +0.j        ],\n",
      "            dims=(2,))\n"
     ]
    }
   ],
   "source": [
    "state"
   ]
  },
  {
   "cell_type": "code",
   "execution_count": 167,
   "metadata": {},
   "outputs": [
    {
     "data": {
      "text/plain": [
       "{'1': 131072, '0': 0}"
      ]
     },
     "execution_count": 167,
     "metadata": {},
     "output_type": "execute_result"
    }
   ],
   "source": [
    "counts"
   ]
  },
  {
   "cell_type": "code",
   "execution_count": null,
   "metadata": {},
   "outputs": [],
   "source": []
  }
 ],
 "metadata": {
  "kernelspec": {
   "display_name": "Python 3.10.1 64-bit",
   "language": "python",
   "name": "python3"
  },
  "language_info": {
   "codemirror_mode": {
    "name": "ipython",
    "version": 3
   },
   "file_extension": ".py",
   "mimetype": "text/x-python",
   "name": "python",
   "nbconvert_exporter": "python",
   "pygments_lexer": "ipython3",
   "version": "3.10.1"
  },
  "orig_nbformat": 4,
  "vscode": {
   "interpreter": {
    "hash": "98590ff4fe04c8543246b2a01debd3de3c5ca9b666f43f1fa87d5110c692004c"
   }
  }
 },
 "nbformat": 4,
 "nbformat_minor": 2
}
